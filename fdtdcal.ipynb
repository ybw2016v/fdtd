{
 "cells": [
  {
   "cell_type": "code",
   "execution_count": null,
   "metadata": {},
   "outputs": [],
   "source": [
    "import numpy as np\n",
    "import numpy.ctypeslib as npct\n",
    "import ctypes\n",
    "from ctypes import c_int\n"
   ]
  },
  {
   "cell_type": "code",
   "execution_count": 2,
   "metadata": {},
   "outputs": [],
   "source": [
    "libcd = npct.load_library(\"fdtdcal\", \".\")"
   ]
  },
  {
   "cell_type": "code",
   "execution_count": 3,
   "metadata": {},
   "outputs": [],
   "source": [
    "def initcal(ex1,ey1,ez1,bx1,by1,bz1,ex2,ey2,ez2,bx2,by2,bz2,libcd):\n",
    "    array_1d_double = npct.ndpointer(dtype=np.float64, ndim=3, flags='CONTIGUOUS')\n",
    "    ff=np.array(ex1.strides,dtype='int32')\n",
    "    dd=np.array(np.shape(ex1),dtype='int32')\n",
    "    libcd.initecal.restype = c_int\n",
    "    libcd.initbcal.restype = c_int\n",
    "    libcd.inite2cal.restype = c_int\n",
    "    libcd.initb2cal.restype = c_int\n",
    "    libcd.initecal.argtypes=[array_1d_double,array_1d_double,array_1d_double,npct.ndpointer(dtype=c_int,ndim=1,flags='CONTIGUOUS'),npct.ndpointer(dtype=c_int,ndim=1,flags='CONTIGUOUS')]\n",
    "    libcd.initbcal.argtypes=[array_1d_double,array_1d_double,array_1d_double,npct.ndpointer(dtype=c_int,ndim=1,flags='CONTIGUOUS'),npct.ndpointer(dtype=c_int,ndim=1,flags='CONTIGUOUS')]\n",
    "    libcd.inite2cal.argtypes=[array_1d_double,array_1d_double,array_1d_double,npct.ndpointer(dtype=c_int,ndim=1,flags='CONTIGUOUS'),npct.ndpointer(dtype=c_int,ndim=1,flags='CONTIGUOUS')]\n",
    "    libcd.initb2cal.argtypes=[array_1d_double,array_1d_double,array_1d_double,npct.ndpointer(dtype=c_int,ndim=1,flags='CONTIGUOUS'),npct.ndpointer(dtype=c_int,ndim=1,flags='CONTIGUOUS')]\n",
    "\n",
    "    libcd.initecal(ex1,ey1,ez1,ff,dd)\n",
    "    libcd.initbcal(bx1,by1,bz1,ff,dd)\n",
    "    libcd.inite2cal(ex2,ey2,ez2,ff,dd)\n",
    "    libcd.initb2cal(bx2,by2,bz2,ff,dd)\n",
    "    return 'OK'"
   ]
  },
  {
   "cell_type": "code",
   "execution_count": null,
   "metadata": {},
   "outputs": [],
   "source": [
    "def initc(ca,cb,cp,cq,libcd):\n",
    "    array_1d_double = npct.ndpointer(dtype=np.float64, ndim=3, flags='CONTIGUOUS')\n",
    "    libcd.initc.restype=c_int\n",
    "    libcd.initc.argtypes=[array_1d_double,array_1d_double,array_1d_double,array_1d_double]\n",
    "    libcd.initc(ca,cb,cp.cq)\n",
    "    return \"OK\""
   ]
  },
  {
   "cell_type": "code",
   "execution_count": 4,
   "metadata": {},
   "outputs": [],
   "source": [
    "def initarr(n,libcd):\n",
    "    arr=np.array(n,dtype='float64')\n",
    "    libcd.intarry.restype=None\n",
    "    libcd.intarry.argtypes=[ctypes.c_double]\n",
    "    libcd.intarry(arr)\n",
    "    return 'OK'\n",
    "    "
   ]
  },
  {
   "cell_type": "code",
   "execution_count": 5,
   "metadata": {},
   "outputs": [],
   "source": [
    "N=16\n",
    "ex1=np.zeros([N,N,N])\n",
    "ey1=np.zeros([N,N,N])\n",
    "ez1=np.zeros([N,N,N])\n",
    "ex2=np.zeros([N,N,N])\n",
    "ey2=np.zeros([N,N,N])\n",
    "ez2=np.zeros([N,N,N])\n",
    "bx1=np.zeros([N,N,N])\n",
    "by1=np.zeros([N,N,N])\n",
    "bz1=np.zeros([N,N,N])\n",
    "bx2=np.zeros([N,N,N])\n",
    "by2=np.zeros([N,N,N])\n",
    "bz2=np.zeros([N,N,N])\n",
    "ex1[int(N/2),int(N/2),int(N/2)]=1"
   ]
  },
  {
   "cell_type": "code",
   "execution_count": 6,
   "metadata": {},
   "outputs": [],
   "source": [
    "def callib(n,libcd):\n",
    "    nn=np.array(n,dtype=c_int)\n",
    "    libcd.cal.restype=c_int\n",
    "    libcd.cal.argtypes=[c_int]\n",
    "    libcd.cal(nn)\n",
    "    return 'OK'"
   ]
  },
  {
   "cell_type": "code",
   "execution_count": 7,
   "metadata": {},
   "outputs": [
    {
     "data": {
      "text/plain": [
       "'OK'"
      ]
     },
     "execution_count": 7,
     "metadata": {},
     "output_type": "execute_result"
    }
   ],
   "source": [
    "initarr(2,libcd)"
   ]
  },
  {
   "cell_type": "code",
   "execution_count": 8,
   "metadata": {},
   "outputs": [
    {
     "data": {
      "text/plain": [
       "'OK'"
      ]
     },
     "execution_count": 8,
     "metadata": {},
     "output_type": "execute_result"
    }
   ],
   "source": [
    "initcal(ex1,ey1,ez1,bx1,by1,bz1,ex2,ey2,ez2,bx2,by2,bz2,libcd)"
   ]
  },
  {
   "cell_type": "code",
   "execution_count": 27,
   "metadata": {},
   "outputs": [
    {
     "data": {
      "text/plain": [
       "'OK'"
      ]
     },
     "execution_count": 27,
     "metadata": {},
     "output_type": "execute_result"
    }
   ],
   "source": [
    "callib(8,libcd)"
   ]
  },
  {
   "cell_type": "code",
   "execution_count": 15,
   "metadata": {},
   "outputs": [],
   "source": [
    "ex1[int(N/2),int(N/2),int(N/2)]=0"
   ]
  },
  {
   "cell_type": "code",
   "execution_count": 16,
   "metadata": {},
   "outputs": [
    {
     "data": {
      "text/plain": [
       "'OK'"
      ]
     },
     "execution_count": 16,
     "metadata": {},
     "output_type": "execute_result"
    }
   ],
   "source": [
    "callib(2,libcd)"
   ]
  },
  {
   "cell_type": "code",
   "execution_count": 28,
   "metadata": {},
   "outputs": [
    {
     "data": {
      "text/plain": [
       "array([[      0.        ,       0.        ,       0.        ,\n",
       "              0.        ,       0.        ,       0.        ,\n",
       "              0.        ,       0.        ,       0.        ,\n",
       "              0.        ,       0.        ,       0.        ,\n",
       "              0.        ,       0.        ,       0.        ,       0.        ],\n",
       "       [      0.        ,       0.        ,       0.        ,\n",
       "              0.        ,       0.        ,       0.        ,\n",
       "              0.        ,       0.        ,       0.        ,\n",
       "              0.        ,       0.        ,       0.        ,\n",
       "              0.        ,       0.        ,       0.        ,       0.        ],\n",
       "       [      0.        ,       0.        ,       0.        ,\n",
       "              0.        ,       0.        ,       0.        ,\n",
       "              0.        ,       0.        ,       0.        ,\n",
       "              0.        ,       0.        ,       0.        ,\n",
       "              0.        ,       0.        ,       0.        ,       0.        ],\n",
       "       [      0.        ,       0.        ,       0.        ,\n",
       "              0.        ,       0.        ,       0.        ,\n",
       "              0.        ,       0.        ,       0.        ,\n",
       "              0.        ,       0.        ,       0.        ,\n",
       "              0.        ,       0.        ,       0.        ,       0.        ],\n",
       "       [      0.        ,       0.        ,       0.        ,\n",
       "              0.        ,       0.        ,       0.        ,\n",
       "              0.        ,       0.        ,       0.        ,\n",
       "              0.        ,       0.        ,       0.        ,\n",
       "              0.        ,       0.        ,       0.        ,       0.        ],\n",
       "       [      0.        ,       0.        ,       0.        ,\n",
       "              0.        ,       0.        ,       0.        ,\n",
       "              0.        ,       0.        ,       0.        ,\n",
       "              0.        ,       0.        ,       0.        ,\n",
       "              0.        ,       0.        ,       0.        ,       0.        ],\n",
       "       [      0.        ,       0.        ,       0.        ,\n",
       "              0.        ,       0.        ,       0.        ,\n",
       "              0.        ,       0.        ,       0.        ,\n",
       "              0.        ,       0.        ,       0.        ,\n",
       "              0.        ,       0.        ,       0.        ,       0.        ],\n",
       "       [      0.        ,       0.        ,       0.        ,\n",
       "              0.        ,       0.        ,       0.        ,\n",
       "              0.        ,       0.        ,       0.        ,\n",
       "              0.        ,       0.        ,       0.        ,\n",
       "              0.        ,       0.        ,       0.        ,       0.        ],\n",
       "       [      0.        ,       0.        ,       0.        ,\n",
       "              0.        ,       0.        ,       0.        ,\n",
       "              0.        ,       0.        ,   90217.62851477,\n",
       "        -294534.96156883,  543612.28950977, -682560.07346535,\n",
       "         649269.74588251, -486868.81967926,  297787.31435013,       0.        ],\n",
       "       [      0.        ,       0.        ,       0.        ,\n",
       "              0.        ,       0.        ,       0.        ,\n",
       "              0.        ,       0.        ,       0.        ,\n",
       "              0.        ,       0.        ,       0.        ,\n",
       "              0.        ,       0.        ,       0.        ,       0.        ],\n",
       "       [      0.        ,       0.        ,       0.        ,\n",
       "              0.        ,       0.        ,       0.        ,\n",
       "              0.        ,       0.        ,   39062.01403761,\n",
       "        -158156.27893353,  302218.02269506, -373797.40485764,\n",
       "         335767.53657627, -231469.26872444,  127096.39201641,       0.        ],\n",
       "       [      0.        ,       0.        ,       0.        ,\n",
       "              0.        ,       0.        ,       0.        ,\n",
       "              0.        ,       0.        ,   39062.01403761,\n",
       "        -158156.27893353,  302218.02269506, -373797.40485764,\n",
       "         335767.53657627, -231469.26872444,  127096.39201641,       0.        ],\n",
       "       [      0.        ,       0.        ,       0.        ,\n",
       "              0.        ,       0.        ,       0.        ,\n",
       "              0.        ,       0.        ,  -20008.06271458,\n",
       "          71553.816185  , -117232.35855865,  123198.35448837,\n",
       "         -93591.28665829,   53865.611763  ,  -24543.40251541,       0.        ],\n",
       "       [      0.        ,       0.        ,       0.        ,\n",
       "              0.        ,       0.        ,       0.        ,\n",
       "              0.        ,       0.        ,       0.        ,\n",
       "              0.        ,       0.        ,       0.        ,\n",
       "              0.        ,       0.        ,       0.        ,       0.        ],\n",
       "       [      0.        ,       0.        ,       0.        ,\n",
       "              0.        ,       0.        ,       0.        ,\n",
       "              0.        ,       0.        ,       0.        ,\n",
       "              0.        ,       0.        ,       0.        ,\n",
       "              0.        ,       0.        ,       0.        ,       0.        ],\n",
       "       [      0.        ,       0.        ,       0.        ,\n",
       "              0.        ,       0.        ,       0.        ,\n",
       "              0.        ,       0.        ,       0.        ,\n",
       "              0.        ,       0.        ,       0.        ,\n",
       "              0.        ,       0.        ,       0.        ,       0.        ]])"
      ]
     },
     "execution_count": 28,
     "metadata": {},
     "output_type": "execute_result"
    }
   ],
   "source": [
    "bz2[8,:,:]"
   ]
  },
  {
   "cell_type": "code",
   "execution_count": null,
   "metadata": {},
   "outputs": [],
   "source": [
    "libcd = npct.load_library(\"fdtdcal\", \".\")"
   ]
  },
  {
   "cell_type": "code",
   "execution_count": null,
   "metadata": {},
   "outputs": [],
   "source": [
    "array_1d_double = npct.ndpointer(dtype=np.float64, ndim=3, flags='CONTIGUOUS')"
   ]
  },
  {
   "cell_type": "code",
   "execution_count": null,
   "metadata": {},
   "outputs": [],
   "source": [
    "ff=np.array(e1.strides,dtype='int32')"
   ]
  },
  {
   "cell_type": "code",
   "execution_count": null,
   "metadata": {},
   "outputs": [],
   "source": [
    "dd=np.array(np.shape(e1),dtype='int32')"
   ]
  },
  {
   "cell_type": "code",
   "execution_count": null,
   "metadata": {},
   "outputs": [],
   "source": [
    "libcd.initcal.restype = c_int"
   ]
  },
  {
   "cell_type": "code",
   "execution_count": null,
   "metadata": {},
   "outputs": [],
   "source": [
    "#libcd.initcal.argtypes=[array_1d_double,array_1d_double,array_1d_double,npct.ndpointer(dtype=c_int,ndim=1,flags='CONTIGUOUS'),npct.ndpointer(dtype=c_int,ndim=1,flags='CONTIGUOUS')]"
   ]
  }
 ],
 "metadata": {
  "kernelspec": {
   "display_name": "Python 3",
   "language": "python",
   "name": "python3"
  },
  "language_info": {
   "codemirror_mode": {
    "name": "ipython",
    "version": 3
   },
   "file_extension": ".py",
   "mimetype": "text/x-python",
   "name": "python",
   "nbconvert_exporter": "python",
   "pygments_lexer": "ipython3",
   "version": "3.6.2"
  }
 },
 "nbformat": 4,
 "nbformat_minor": 2
}
